{
 "cells": [
  {
   "cell_type": "code",
   "execution_count": null,
   "id": "53286970-bae1-4e2b-97b7-3554b7025ea6",
   "metadata": {},
   "outputs": [],
   "source": [
    "import vllm\n",
    "from vllm import LLM, SamplingParams\n",
    "from typing import List\n",
    "\n",
    "sampling_params = SamplingParams(\n",
    "    temperature=0,\n",
    "    top_p=0.95,\n",
    "    max_tokens=1024,\n",
    "    top_k=10,\n",
    "    # repetition_penalty=1.15\n",
    ")\n",
    "\n",
    "prefix = (\n",
    "    \"You are a helpful customer care chatbot for a financial company called as Mars.\"\n",
    "    \"For a user query, please respond appropriately by asking questions \"\n",
    "    \"and gathering more information before responding.\\n\"\n",
    ")\n",
    "\n",
    "requests_q = {}\n",
    "total_requests = 0"
   ]
  },
  {
   "cell_type": "code",
   "execution_count": null,
   "id": "690851aa-0052-40ab-a1c4-aee59237000c",
   "metadata": {},
   "outputs": [],
   "source": [
    "def initialize_engine(model_id: str = 'TheBloke/Llama-2-7b-Chat-AWQ') -> vllm.LLMEngine:\n",
    "\n",
    "    llm = LLM(model=model_id, gpu_memory_utilization=0.7)\n",
    "    output = llm.generate(prefix, sampling_params)\n",
    "\n",
    "    print(output)\n",
    "\n",
    "    return llm.llm_engine\n",
    "\n",
    "def get_request_id() -> str:\n",
    "    \"\"\"\n",
    "    Generates a request ID\n",
    "\n",
    "    Returns:\n",
    "        str: Request ID\n",
    "    \"\"\"\n",
    "    global total_requests\n",
    "    global requests_q\n",
    "\n",
    "    request_id =  str(total_requests)\n",
    "    total_requests += 1\n",
    "    requests_q.update({\n",
    "        request_id: {}\n",
    "    })\n",
    "\n",
    "    return request_id\n",
    "\n",
    "def initiate_request(llm: vllm.LLMEngine, request_id: str, message: str, prefix_pos: int) -> bool:\n",
    "    \"\"\"\n",
    "    Initiates a request to the LLM engine\n",
    "\n",
    "    Args:\n",
    "        llm (vllm.LLMEngine): vLLM engine\n",
    "        request_id (str): Request ID\n",
    "        message (str): Message description\n",
    "\n",
    "    Returns:\n",
    "        bool: If the initiation was success or not\n",
    "    \"\"\"\n",
    "\n",
    "    llm.add_request(\n",
    "        request_id=request_id,\n",
    "        prompt=prefix + message,\n",
    "        sampling_params=sampling_params,\n",
    "        prefix_pos=prefix_pos\n",
    "    )\n",
    "        \n",
    "\n",
    "def next_message(llm: vllm.LLMEngine) -> str:\n",
    "    \"\"\"\n",
    "    Gets the next message for the given Request ID\n",
    "\n",
    "    Args:\n",
    "        llm (vllm.LLMEngine): vLLM engine\n",
    "        request_id (str): Request ID\n",
    "\n",
    "    Returns:\n",
    "        str: Next message in the Chat\n",
    "    \"\"\"\n",
    "    while llm.has_unfinished_requests():\n",
    "            request_outputs: List[vllm.RequestOutput] = llm.step()\n",
    "            for request_output in request_outputs:\n",
    "                if request_output.finished:\n",
    "                    yield request_output"
   ]
  },
  {
   "cell_type": "code",
   "execution_count": null,
   "id": "34fa776a-baee-4ccf-be80-4c4e877f57f3",
   "metadata": {
    "scrolled": true
   },
   "outputs": [],
   "source": [
    "%%time\n",
    "model = initialize_engine()"
   ]
  },
  {
   "cell_type": "code",
   "execution_count": null,
   "id": "e4a27126-9a81-4cd8-9660-d6cd930699e5",
   "metadata": {},
   "outputs": [],
   "source": [
    "import time"
   ]
  },
  {
   "cell_type": "code",
   "execution_count": null,
   "id": "58722d76-848c-472d-8660-7a387a63f0f9",
   "metadata": {
    "scrolled": true
   },
   "outputs": [],
   "source": [
    "prompt = 'I want to invest in mutual funds. Kindly give me 4 advice'\n",
    "initiate_request(model, str(1), prompt, prefix_pos=len(prefix) + len(prompt) -1)\n",
    "# initiate_request(model, str(3), 'How can you help me?')\n",
    "\n",
    "start_time = time.time()\n",
    "\n",
    "for elem in next_message(model):    \n",
    "    print(\n",
    "        elem.request_id + '\\n',\n",
    "        elem.prompt + '\\n',\n",
    "        elem.outputs[0].text + '\\n'\n",
    "    )\n",
    "\n",
    "    speed = elem.outputs[0].token_ids.__len__()/(time.time() - start_time)\n",
    "\n",
    "    print(f'Elapsed time: {time.time() - start_time}s')\n",
    "    print(f'Speed {speed}')\n",
    "    print('-'*4)\n",
    "\n",
    "    start_time = time.time()"
   ]
  },
  {
   "cell_type": "code",
   "execution_count": null,
   "id": "9242a7c4-c6da-4e2c-b01c-0586a160b064",
   "metadata": {},
   "outputs": [],
   "source": [
    "prompt3 = elem.outputs[0].text + '\\n Cam you tell me the URL for them?'"
   ]
  },
  {
   "cell_type": "code",
   "execution_count": null,
   "id": "208a0e81-76ce-44e3-b726-c9bd8c88dcd6",
   "metadata": {},
   "outputs": [],
   "source": [
    "prompt + prompt2 + prompt3"
   ]
  },
  {
   "cell_type": "code",
   "execution_count": null,
   "id": "d886df28-86f4-4b40-af23-bc4384372f2d",
   "metadata": {},
   "outputs": [],
   "source": [
    "initiate_request(model, str(1), 'How should I go to these websites', prefix_pos=len(prefix) + len(prompt) + len(prompt2) + len(prompt3) -1)\n",
    "# initiate_request(model, str(3), 'How can you help me?')\n",
    "\n",
    "start_time = time.time()\n",
    "\n",
    "for elem in next_message(model):    \n",
    "    print(\n",
    "        elem.request_id + '\\n',\n",
    "        elem.prompt + '\\n',\n",
    "        elem.outputs[0].text + '\\n'\n",
    "    )\n",
    "\n",
    "    speed = elem.outputs[0].token_ids.__len__()/(time.time() - start_time)\n",
    "\n",
    "    print(f'Elapsed time: {time.time() - start_time}s')\n",
    "    print(f'Speed {speed}')\n",
    "    print('-'*4)\n",
    "\n",
    "    start_time = time.time()"
   ]
  },
  {
   "cell_type": "code",
   "execution_count": null,
   "id": "85f0f159-e16f-4a2a-ab78-047bc819a754",
   "metadata": {},
   "outputs": [],
   "source": []
  }
 ],
 "metadata": {
  "kernelspec": {
   "display_name": "Python 3 (ipykernel)",
   "language": "python",
   "name": "python3"
  },
  "language_info": {
   "codemirror_mode": {
    "name": "ipython",
    "version": 3
   },
   "file_extension": ".py",
   "mimetype": "text/x-python",
   "name": "python",
   "nbconvert_exporter": "python",
   "pygments_lexer": "ipython3",
   "version": "3.11.6"
  }
 },
 "nbformat": 4,
 "nbformat_minor": 5
}
