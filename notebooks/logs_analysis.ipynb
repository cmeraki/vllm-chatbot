{
 "cells": [
  {
   "cell_type": "code",
   "execution_count": null,
   "id": "772bb3d3-e8bc-45b9-9554-07848366070b",
   "metadata": {},
   "outputs": [],
   "source": [
    "import pandas as pd"
   ]
  },
  {
   "cell_type": "code",
   "execution_count": null,
   "id": "3ac49570-e51a-4d8b-895c-cdba99cfc2e3",
   "metadata": {},
   "outputs": [],
   "source": [
    "data = []\n",
    "with open('../simulation.log', 'r') as fp:\n",
    "    raw = fp.read()\n",
    "    for ln in raw.split('\\n'):\n",
    "        data.append(ln)"
   ]
  },
  {
   "cell_type": "code",
   "execution_count": null,
   "id": "3b758d63-0869-4806-93af-4fef4950716b",
   "metadata": {
    "scrolled": true
   },
   "outputs": [],
   "source": [
    "df_dict = {\n",
    "    'timestamp': [],\n",
    "    'level': [],\n",
    "    'thread_id': [],\n",
    "    'process_id': [],\n",
    "    'description': []\n",
    "}\n",
    "\n",
    "for line in data:\n",
    "    if not line:\n",
    "        continue\n",
    "    timestamp, level, thread_id, process_id, description = line.split(' - ', 4)\n",
    "    df_dict['timestamp'].append(timestamp)\n",
    "    df_dict['level'].append(level)\n",
    "    df_dict['thread_id'].append(thread_id)\n",
    "    df_dict['process_id'].append(process_id)\n",
    "    df_dict['description'].append(description)"
   ]
  },
  {
   "cell_type": "code",
   "execution_count": null,
   "id": "f162a186-9029-44b0-ae7e-f04fdc9e58c1",
   "metadata": {},
   "outputs": [],
   "source": [
    "df = pd.DataFrame(df_dict, index=range(len(df_dict['timestamp'])))"
   ]
  },
  {
   "cell_type": "markdown",
   "id": "070fa3f9-0cba-41bc-ab61-032db27e88ee",
   "metadata": {},
   "source": [
    "conversation id\n",
    "- number of total tokens (inputs + outputs)\n",
    "- time to return the request\n",
    "- number of turns"
   ]
  },
  {
   "cell_type": "code",
   "execution_count": null,
   "id": "19fb8906-5779-4b12-9ca3-26a36475ac6e",
   "metadata": {},
   "outputs": [],
   "source": [
    "for _, gp in df.groupby('process_id'):\n",
    "    tmp = gp.sort_values('timestamp')\n",
    "\n",
    "    "
   ]
  },
  {
   "cell_type": "code",
   "execution_count": null,
   "id": "70139fa2-97e0-4cba-9805-df7bebeb084d",
   "metadata": {
    "scrolled": true
   },
   "outputs": [],
   "source": [
    "df.query('process_id == \"2472386\"').sort_values('timestamp')"
   ]
  },
  {
   "cell_type": "code",
   "execution_count": null,
   "id": "c6a01ff1-f34d-4fa3-a469-6c53d4edf9f4",
   "metadata": {},
   "outputs": [],
   "source": []
  }
 ],
 "metadata": {
  "kernelspec": {
   "display_name": "Python 3 (ipykernel)",
   "language": "python",
   "name": "python3"
  },
  "language_info": {
   "codemirror_mode": {
    "name": "ipython",
    "version": 3
   },
   "file_extension": ".py",
   "mimetype": "text/x-python",
   "name": "python",
   "nbconvert_exporter": "python",
   "pygments_lexer": "ipython3",
   "version": "3.11.5"
  }
 },
 "nbformat": 4,
 "nbformat_minor": 5
}
