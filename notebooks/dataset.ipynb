{
 "cells": [
  {
   "cell_type": "code",
   "execution_count": null,
   "id": "7779a571-755a-4949-9c50-6491c8b32123",
   "metadata": {},
   "outputs": [],
   "source": [
    "import numpy as np\n",
    "from datasets import load_dataset"
   ]
  },
  {
   "cell_type": "code",
   "execution_count": null,
   "id": "04ccc99a-b5f1-4e02-997e-1a8fc74b7cef",
   "metadata": {},
   "outputs": [],
   "source": [
    "ds = load_dataset('HuggingFaceH4/ultrachat_200k')"
   ]
  },
  {
   "cell_type": "code",
   "execution_count": null,
   "id": "82bc6845-712b-4356-b909-70aa5dfdee51",
   "metadata": {},
   "outputs": [],
   "source": [
    "def user_agent(message_dataset):\n",
    "    idx = np.random.randint(0, len(message_dataset))\n",
    "    return message_dataset[idx]['prompt']"
   ]
  },
  {
   "cell_type": "code",
   "execution_count": null,
   "id": "ea93cf67-aa4b-4461-9204-8f4fd2e117e9",
   "metadata": {},
   "outputs": [],
   "source": [
    "user_agent(ds['train_gen'])"
   ]
  },
  {
   "cell_type": "code",
   "execution_count": null,
   "id": "30a848ef-9b17-4b27-b9d1-5a20ba2defec",
   "metadata": {},
   "outputs": [],
   "source": []
  }
 ],
 "metadata": {
  "kernelspec": {
   "display_name": "Python 3 (ipykernel)",
   "language": "python",
   "name": "python3"
  },
  "language_info": {
   "codemirror_mode": {
    "name": "ipython",
    "version": 3
   },
   "file_extension": ".py",
   "mimetype": "text/x-python",
   "name": "python",
   "nbconvert_exporter": "python",
   "pygments_lexer": "ipython3",
   "version": "3.11.5"
  }
 },
 "nbformat": 4,
 "nbformat_minor": 5
}
