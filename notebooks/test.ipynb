{
 "cells": [
  {
   "cell_type": "code",
   "execution_count": null,
   "id": "53286970-bae1-4e2b-97b7-3554b7025ea6",
   "metadata": {},
   "outputs": [],
   "source": [
    "import time\n",
    "import vllm\n",
    "from vllm import LLM, SamplingParams\n",
    "from typing import List\n",
    "\n",
    "sampling_params = SamplingParams(\n",
    "    temperature=0.9,\n",
    "    top_p=0.8,\n",
    "    max_tokens=1024,\n",
    "    top_k=50,\n",
    "    # repetition_penalty=1.15\n",
    ")\n",
    "\n",
    "prefix = (\n",
    "    \"You are a helpful customer care chatbot for a financial company called as Mars.\"\n",
    "    \"For a user query, please respond appropriately by asking questions \"\n",
    "    \"and gathering more information before responding.\\n\"\n",
    ")\n",
    "\n",
    "requests_q = {}\n",
    "total_requests = 0"
   ]
  },
  {
   "cell_type": "code",
   "execution_count": null,
   "id": "690851aa-0052-40ab-a1c4-aee59237000c",
   "metadata": {},
   "outputs": [],
   "source": [
    "def initialize_engine(model_id: str = 'TheBloke/Llama-2-7b-Chat-AWQ') -> vllm.LLMEngine:\n",
    "\n",
    "    llm = LLM(model=model_id, gpu_memory_utilization=0.7, max_model_len=102)\n",
    "    # output = llm.generate(prefix, sampling_params)\n",
    "\n",
    "    # print(output)\n",
    "\n",
    "    return llm.llm_engine\n",
    "\n",
    "def get_request_id() -> str:\n",
    "    \"\"\"\n",
    "    Generates a request ID\n",
    "\n",
    "    Returns:\n",
    "        str: Request ID\n",
    "    \"\"\"\n",
    "    global total_requests\n",
    "    global requests_q\n",
    "\n",
    "    request_id =  str(total_requests)\n",
    "    total_requests += 1\n",
    "    requests_q.update({\n",
    "        request_id: {}\n",
    "    })\n",
    "\n",
    "    return request_id\n",
    "\n",
    "def initiate_request(llm: vllm.LLMEngine, request_id: str, message: str, prefix_pos: int) -> bool:\n",
    "    \"\"\"\n",
    "    Initiates a request to the LLM engine\n",
    "\n",
    "    Args:\n",
    "        llm (vllm.LLMEngine): vLLM engine\n",
    "        request_id (str): Request ID\n",
    "        message (str): Message description\n",
    "\n",
    "    Returns:\n",
    "        bool: If the initiation was success or not\n",
    "    \"\"\"\n",
    "\n",
    "    llm.add_request(\n",
    "        request_id=request_id,\n",
    "        prompt=message,\n",
    "        sampling_params=sampling_params,\n",
    "        prefix_pos=prefix_pos\n",
    "    )\n",
    "        \n",
    "\n",
    "def next_message(llm: vllm.LLMEngine) -> str:\n",
    "    \"\"\"\n",
    "    Gets the next message for the given Request ID\n",
    "\n",
    "    Args:\n",
    "        llm (vllm.LLMEngine): vLLM engine\n",
    "        request_id (str): Request ID\n",
    "\n",
    "    Returns:\n",
    "        str: Next message in the Chat\n",
    "    \"\"\"\n",
    "    while llm.has_unfinished_requests():\n",
    "        time.sleep(2)\n",
    "        print('stepping')\n",
    "        request_outputs: List[vllm.RequestOutput] = llm.step()\n",
    "        yield request_outputs"
   ]
  },
  {
   "cell_type": "code",
   "execution_count": null,
   "id": "34fa776a-baee-4ccf-be80-4c4e877f57f3",
   "metadata": {
    "scrolled": true
   },
   "outputs": [],
   "source": [
    "%%time\n",
    "model = initialize_engine()"
   ]
  },
  {
   "cell_type": "code",
   "execution_count": null,
   "id": "789cfdd5-dfe8-416b-a0f5-c04888661b7b",
   "metadata": {},
   "outputs": [],
   "source": [
    "prompt = 'generate 50 random words'"
   ]
  },
  {
   "cell_type": "code",
   "execution_count": null,
   "id": "d08d6bd3-8850-4902-a0f5-c00df1ba1a8c",
   "metadata": {
    "scrolled": true
   },
   "outputs": [],
   "source": [
    "initiate_request(model, str(1), prompt, prefix_pos=None)\n",
    "\n",
    "start_time = time.time()\n",
    "i = 2\n",
    "\n",
    "for elem in next_message(model):    \n",
    "    print(len(elem))\n",
    "    print(elem)\n",
    "    print('----')\n",
    "    initiate_request(model, str(i), prompt, prefix_pos=None)\n",
    "    i += 1\n",
    "\n",
    "    if i >= 10:\n",
    "        break"
   ]
  },
  {
   "cell_type": "code",
   "execution_count": null,
   "id": "3e3068f9-311a-405f-a3c7-c6384db63004",
   "metadata": {
    "scrolled": true
   },
   "outputs": [],
   "source": [
    "for elem in next_message(model):    \n",
    "    print(len(elem))\n",
    "    print(elem)\n",
    "    print('----')"
   ]
  },
  {
   "cell_type": "code",
   "execution_count": null,
   "id": "da5a2646-dddc-456f-9982-d729891b2cf8",
   "metadata": {},
   "outputs": [],
   "source": [
    "[e.outputs[0].text for e in elem]"
   ]
  },
  {
   "cell_type": "code",
   "execution_count": null,
   "id": "171409ce-684a-4909-932d-f97128f79af5",
   "metadata": {},
   "outputs": [],
   "source": []
  },
  {
   "cell_type": "code",
   "execution_count": null,
   "id": "e827e121-4fa9-49eb-99a4-a808bebccd8f",
   "metadata": {},
   "outputs": [],
   "source": []
  },
  {
   "cell_type": "code",
   "execution_count": null,
   "id": "58722d76-848c-472d-8660-7a387a63f0f9",
   "metadata": {
    "scrolled": true
   },
   "outputs": [],
   "source": [
    "# initiate_request(model, str(1), prompt, prefix_pos=None)\n",
    "\n",
    "start_time = time.time()\n",
    "\n",
    "for elem in next_message(model):    \n",
    "    print(\n",
    "        elem.request_id + '\\n',\n",
    "        elem.prompt + '\\n',\n",
    "        elem.outputs[0].text + '\\n'\n",
    "    )\n",
    "\n",
    "    completed_time = time.time() - start_time\n",
    "    speed = elem.outputs[0].token_ids.__len__()/completed_time\n",
    "    print(f'Speed {round(speed, 2)}, time: {round(completed_time, 2)}')"
   ]
  },
  {
   "cell_type": "code",
   "execution_count": null,
   "id": "58fc8be7-9dbb-400e-9cae-6ec4e6b87664",
   "metadata": {},
   "outputs": [],
   "source": [
    "op1 = elem.outputs[0].text"
   ]
  },
  {
   "cell_type": "code",
   "execution_count": null,
   "id": "9242a7c4-c6da-4e2c-b01c-0586a160b064",
   "metadata": {},
   "outputs": [],
   "source": [
    "modified_prompt = prompt + op1 + ' \\nTell me 1 more joke about engineers.'"
   ]
  },
  {
   "cell_type": "code",
   "execution_count": null,
   "id": "d886df28-86f4-4b40-af23-bc4384372f2d",
   "metadata": {},
   "outputs": [],
   "source": [
    "initiate_request(model, str(2), modified_prompt, prefix_pos=None)\n",
    "# initiate_request(model, str(2), modified_prompt, prefix_pos=len(prompt) + len(op1) - 1)\n",
    "\n",
    "start_time = time.time()\n",
    "\n",
    "for elem in next_message(model):    \n",
    "    print(\n",
    "        elem.request_id + '\\n',\n",
    "        elem.prompt + '\\n',\n",
    "        elem.outputs[0].text + '\\n'\n",
    "    )\n",
    "\n",
    "    completed_time = time.time() - start_time\n",
    "    speed = elem.outputs[0].token_ids.__len__()/completed_time\n",
    "    print(f'Speed {round(speed, 2)}, time: {round(completed_time, 2)}')\n",
    "\n",
    "    break"
   ]
  },
  {
   "cell_type": "code",
   "execution_count": null,
   "id": "34e4bb57-353b-4ff2-bd07-453a093902f9",
   "metadata": {},
   "outputs": [],
   "source": []
  },
  {
   "cell_type": "code",
   "execution_count": null,
   "id": "4800232f-cc9a-466c-ba4b-b471db1ca88a",
   "metadata": {},
   "outputs": [],
   "source": []
  }
 ],
 "metadata": {
  "kernelspec": {
   "display_name": "Python 3 (ipykernel)",
   "language": "python",
   "name": "python3"
  },
  "language_info": {
   "codemirror_mode": {
    "name": "ipython",
    "version": 3
   },
   "file_extension": ".py",
   "mimetype": "text/x-python",
   "name": "python",
   "nbconvert_exporter": "python",
   "pygments_lexer": "ipython3",
   "version": "3.11.7"
  }
 },
 "nbformat": 4,
 "nbformat_minor": 5
}
